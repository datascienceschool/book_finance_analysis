{
 "cells": [
  {
   "cell_type": "markdown",
   "metadata": {},
   "source": [
    "# 금융분석의 종류와 범위"
   ]
  },
  {
   "cell_type": "markdown",
   "metadata": {},
   "source": [
    "```{tableofcontents}\n",
    "```"
   ]
  },
  {
   "cell_type": "markdown",
   "metadata": {},
   "source": [
    "금융분석은 주식, 채권, 파생상품 등의 가치를 추정하고 이러한 자산으로 구성된 포트폴리오를 만들며 관리하기 위한 분석활동을 말한다.\n",
    "\n",
    "- 주식 분석\n",
    "  - 개별 주식의 가치를 알아내기 위한 분석\n",
    "- 채권 분석\n",
    "  - 채권의 가치를 알아내기 위한 분석\n",
    "- 파생상품 분석\n",
    "  - 주식이나 채권 등과 연동된 파생상품의 가치 및 헤지에 필요한 정보를 알아내기 위한 분석\n",
    "- 자산가격모형 분석\n",
    "  - 금융상품의 요구수익률을 알아내기 위한 분석\n",
    "- 포트폴리오 분석\n",
    "  - 복수의 금융상품으로 이루어진 포트폴리오를 구성하고 관리하기 위한 분석"
   ]
  },
  {
   "cell_type": "code",
   "execution_count": null,
   "metadata": {},
   "outputs": [],
   "source": [
    "\n"
   ]
  }
 ],
 "metadata": {
  "kernelspec": {
   "display_name": "Python 3 (ipykernel)",
   "language": "python",
   "name": "python3"
  },
  "language_info": {
   "codemirror_mode": {
    "name": "ipython",
    "version": 3
   },
   "file_extension": ".py",
   "mimetype": "text/x-python",
   "name": "python",
   "nbconvert_exporter": "python",
   "pygments_lexer": "ipython3",
   "version": "3.9.12"
  },
  "vscode": {
   "interpreter": {
    "hash": "263930470851f494f0ed2879c35b57985588df20f9e529b86e97dd5eb9ddc466"
   }
  }
 },
 "nbformat": 4,
 "nbformat_minor": 4
}
