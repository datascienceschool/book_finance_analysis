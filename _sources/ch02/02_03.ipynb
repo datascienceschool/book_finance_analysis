{
 "cells": [
  {
   "cell_type": "markdown",
   "metadata": {},
   "source": [
    "# 재무기반 주식 분석의 소개"
   ]
  },
  {
   "cell_type": "markdown",
   "metadata": {},
   "source": [
    "```{tableofcontents}\n",
    "```"
   ]
  },
  {
   "cell_type": "markdown",
   "metadata": {},
   "source": [
    "재무기반 주식 분석은 기업의 상황과 실적을 나타내는 재무제표 데이터를 기반으로 기업의 가치를 평가하는 분석론이다. 다음과 같은 3가지 방법론이 있다.\n",
    "\n",
    "* 주가배수 비교 방법론\n",
    "* 자산기반 가치평가 방법론\n",
    "* 펀더멘탈 분석 방법론"
   ]
  },
  {
   "cell_type": "markdown",
   "metadata": {},
   "source": [
    "## 주가배수 비교 방법론"
   ]
  },
  {
   "cell_type": "markdown",
   "metadata": {},
   "source": [
    "### 주가배수"
   ]
  },
  {
   "cell_type": "markdown",
   "metadata": {},
   "source": [
    "<b>주가배수(price multiple)</b>는 주식의 가격을 재무상 중요한 숫자로 나눈 값을 말한다. 보통 다음과 같은 3가지 주가배수가 많이 사용된다.\n",
    "\n",
    "* PSR(Price Sales Ratio) : 주가를 주당 매출액으로 나눈 값\n",
    "* PER(Price Earning Ratio) : 주가를 주당 순이익으로 나눈 값\n",
    "* PBR(Price Book-value Ratio) : 주가를 주당 장부가로 나눈 값\n",
    "\n",
    "이 외에도 현금흐름이나 EBIT(Earning Before Interest and Tas), EBITDA(Earning Before Interest, Tax, Depreciation, and Amortization) 등을 사용한 다양한 주가배수가 있다.\n",
    "\n",
    "주가배수를 구할 때 주가를 주당 재무수치로 나눌 수도 있고 주가 대신 주가와 주식의 수를 곱한 시가총액(market capitalization)을 사용할 수도 있다. 시가총액을 사용하면 주당 재무수치가 아니라 재무제표에 나온 재무수치를 바로 사용할 수 있다. 예를 들어 PSR, PER, PBR은 다음과 같이 구한다.\n",
    "\n",
    "* PSR = 시가총액 / 전체 매출액\n",
    "* PER = 시가총액 / 전체 순이익\n",
    "* PBR = 시가총액 / 전체 장부가치\n"
   ]
  },
  {
   "cell_type": "markdown",
   "metadata": {},
   "source": [
    "### 주가배수 비교 방법론의 개요"
   ]
  },
  {
   "cell_type": "markdown",
   "metadata": {},
   "source": [
    "주가배수 비교 방법론의 기본 가정은 비슷한 기업들은 비슷한 주가배수를 가진다는 것이다. 따라서 주가배수 비교 방법을 사용하려면 우선 분석하고자 하는 대상기업과 유사한 기업 즉, 비교기업군을 찾아야 한다. 일단 비교기업군이 갖추어지면 다음과 같은 두가지 주가배수 비교 분석을 할 수 있다.\n",
    "\n",
    "* 주가배수기반 주식가치평가\n",
    "* 주가배수기반 주식선별 "
   ]
  },
  {
   "cell_type": "markdown",
   "metadata": {},
   "source": [
    "### 주가배수기반 주식가치평가 "
   ]
  },
  {
   "cell_type": "markdown",
   "metadata": {
    "tags": []
   },
   "source": [
    "주가배수기반 주식가치평가는 비교기업군의 주가배수를 구하고 이 주가배수가 옳은 값이고 분석 대상기업의 주가배수도 이와 동일할 것이라 가정하여 분석 대상기업의 주가를 추정하는 방법이다. 분석 순서는 다음과 같다.\n",
    "\n",
    "1. 대상기업과 비교 가능한 비교기업군을 선정한다.\n",
    "1. 비교기업군의 내의 각각의 주식의 주가배수를 구한다.\n",
    "1. 비교기업군의 주가배수 평균을 구한다.\n",
    "1. 분석 대상기업의 주가배수가 비교기업군의 주가배수 평균과 같다고 가정한다.\n",
    "1. 주가배수를 재무수치와 곱하여 주가를 산정한다. "
   ]
  },
  {
   "cell_type": "markdown",
   "metadata": {},
   "source": [
    "예를 들어 미국의 컴퓨터 생산 기업인 Dell의 주가를 주가배수기반 주식가치평가 방법으로 구해보자. 우선 비교기업으로는 HP와 Lenovo라는 기업을 선정하자. 2008년 기준으로 HP와 Lenovo의 재무제표상 수치와 주가배수는 다음 표와 같다. (재무수치의 단위는 백만달러다.)\n",
    "\n",
    "| 기업 | 매출 | 순이익 | 장부가 | 시가총액 | PSR | PER | PBR |\n",
    "| ------ | ------- | ------- | --------- | ------- | ---- | ---- | --- |\n",
    "| HP | 84,229 | 7,264 | 38,526 | 115,700 | 1.37 | 15.9 | 3.0 |\n",
    "| Lenovo | 14,590 | 161 | 1,134 | 6,381 | 0.44 | 39.6 | 5.6 |\n",
    "| 평균 | | | | | 0.91 | 27.8 | 4.3 |\n",
    "\n",
    "이 비교기업에 대해 시장이 효율적이어서 Dell의 주가배수도 이 주가배수 수치와 같아야 한다고 가정하면 다음과 같이 Dell의 시가총액을 계산할 수 있다.\n",
    "\n",
    "| 주가배수 종류 | Dell의 목표 주가배수 값 | Dell의 재무수치 | Dell의 목표 시가총액 |\n",
    "| - | - | - | - |\n",
    "| PSR | 0.91 | 매출액: 61,133 |  0.91 x 61,133 = 55,631 |\n",
    "| PER | 27.8 | 순이익: 2,947 | 27.8 x 2,947 = 81,927 |\n",
    "| PBR | 4.3 | 장부가: 3,735 | 4.3 x 3,735 = 16,061 |\n",
    "| 평균 시가총액 | | | (55,631 + 81,927 + 16,061) / 3 = 51,206 |\n",
    "\n",
    "Dell의 목표 시가총액 51,206(백만달러)을 주식수 2,060(백만주)로 나누면 주가는 51,206 / 2,060 = 24.86 달러가 된다. 참고로 2008년 기준 Dell의 실제주가는 약 25달러였다."
   ]
  },
  {
   "cell_type": "markdown",
   "metadata": {},
   "source": [
    "주가배수기반 주식가치평가는 아주 간단하므로 누구나 쉽게 주가를 추정 할 수 있다는 장점이 있다. 하지만 다음과 같은 근본적인 단점으로 인해 평가의 신뢰도가 높지 않다.\n",
    "\n",
    "* 근본 가정의 오류 : 주가배수기반 주식가치평가는 비교기업군에 대해서만 시장이 효율적이어서 비교기업군의 주가배수는 옳은 값이고 분석 대상기업에 대해서는 시장이 비효율적이어서 대상기업의 현재 주가배수는 옳은 값이 아니라고 가정한다. 하지만 이렇게 구분할 수 있는 논리적인 근거가 약하다.\n",
    "* 순환 오류 : 비교기업 B를 사용하여 기업 A의 주가배수기반 주식가치평가를 한 후 반대로 A를 비교기업으로 사용하여 B를 분석한다면 이번에는 B에 대해 시장이 비효율적이고 A에 대해서는 시장이 효율적이라는 반대의 가정을 해야 한다. \n",
    "* 올바른 비교기업을 찾기 힘들다 : 실제 현실에서는 어떠한 두 기업도 동일한 조건에서 동일한 사업을 하지 않으므로 올바른 비교기업을 찾는 것이 쉽지 않다. 예를 들어 HP는 Dell과 달리 프린터 사업도 하고 있으며 Lenovo는 다른 두 기업과 달리 중국기업이므로 기업환경이 다르다. "
   ]
  },
  {
   "cell_type": "markdown",
   "metadata": {},
   "source": [
    "### 주가배수기반 주식선별"
   ]
  },
  {
   "cell_type": "markdown",
   "metadata": {},
   "source": [
    "주가배수기반 주식선별은 주가배수기반 주식가치평가와 달리 분석 대상기업의 주가를 추정하지 않고 전체 주식군의 주가배수를 비교하여 상대적으로 주가배수가 낮은 주식을 매수하고 주가배수가 높은 주식을 매도(혹은 공매도)하는 방법이다."
   ]
  },
  {
   "cell_type": "markdown",
   "metadata": {},
   "source": [
    "## 자산기반 가치평가 방법론"
   ]
  },
  {
   "cell_type": "markdown",
   "metadata": {},
   "source": [
    "## 펀더멘탈 분석 방법론"
   ]
  },
  {
   "cell_type": "markdown",
   "metadata": {},
   "source": [
    "### 펀더멘탈 분석의 기본 개념"
   ]
  },
  {
   "cell_type": "markdown",
   "metadata": {},
   "source": [
    "#### 현금흐름"
   ]
  },
  {
   "cell_type": "markdown",
   "metadata": {},
   "source": [
    "#### 내부수익률(IRR: Internal Rate of Return)"
   ]
  },
  {
   "cell_type": "markdown",
   "metadata": {},
   "source": [
    "#### 요구수익률(RRR: Required Rate of Return)"
   ]
  },
  {
   "cell_type": "markdown",
   "metadata": {},
   "source": []
  }
 ],
 "metadata": {
  "kernelspec": {
   "display_name": "Python 3 (ipykernel)",
   "language": "python",
   "name": "python3"
  },
  "language_info": {
   "codemirror_mode": {
    "name": "ipython",
    "version": 3
   },
   "file_extension": ".py",
   "mimetype": "text/x-python",
   "name": "python",
   "nbconvert_exporter": "python",
   "pygments_lexer": "ipython3",
   "version": "3.10.6"
  },
  "vscode": {
   "interpreter": {
    "hash": "263930470851f494f0ed2879c35b57985588df20f9e529b86e97dd5eb9ddc466"
   }
  }
 },
 "nbformat": 4,
 "nbformat_minor": 4
}
